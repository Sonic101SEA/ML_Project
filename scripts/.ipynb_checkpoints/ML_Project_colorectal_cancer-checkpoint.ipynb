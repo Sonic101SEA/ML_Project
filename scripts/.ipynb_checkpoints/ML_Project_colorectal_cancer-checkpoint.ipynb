{
 "cells": [
  {
   "cell_type": "markdown",
   "metadata": {},
   "source": [
    "# Libraries"
   ]
  },
  {
   "cell_type": "code",
   "execution_count": 19,
   "metadata": {},
   "outputs": [],
   "source": [
    "import os \n",
    "from PIL import Image\n",
    "\n",
    "import numpy as np\n",
    "import pandas as pd\n",
    "import seaborn as sns\n",
    "import matplotlib.pyplot as plt\n",
    "\n",
    "# For K-means clustering\n",
    "\n",
    "from sklearn.cluster import KMeans\n",
    "from sklearn import metrics\n",
    "\n",
    "# For random forest\n",
    "\n",
    "\n",
    "# For CNN\n",
    "\n",
    "import torch\n",
    "import torch.nn as nn\n",
    "import torch.nn.functional as F \n",
    "import torch.optim as optim\n",
    "from torch.utils.data import Dataset, DataLoader\n",
    "\n",
    "# For classification and testing accuracy\n",
    "\n",
    "from sklearn.preprocessing import StandardScaler    \n",
    "from sklearn.model_selection import train_test_split\n",
    "from sklearn.metrics import confusion_matrix, classification_report, mean_squared_error, mean_absolute_error, r2_score"
   ]
  },
  {
   "cell_type": "markdown",
   "metadata": {},
   "source": [
    "# Data"
   ]
  },
  {
   "cell_type": "code",
   "execution_count": 2,
   "metadata": {},
   "outputs": [
    {
     "name": "stdout",
     "output_type": "stream",
     "text": [
      "02_STROMA\n",
      "06_MUCOSA\n",
      "05_DEBRIS\n",
      "01_TUMOR\n",
      "03_COMPLEX\n",
      "08_EMPTY\n",
      "04_LYMPHO\n",
      "07_ADIPOSE\n"
     ]
    },
    {
     "data": {
      "text/plain": [
       "array([[[[164,  83, 126],\n",
       "         [163,  82, 125],\n",
       "         [165,  84, 125],\n",
       "         ...,\n",
       "         [171, 104, 155],\n",
       "         [153,  87, 133],\n",
       "         [155,  89, 135]],\n",
       "\n",
       "        [[158,  77, 118],\n",
       "         [161,  80, 121],\n",
       "         [168,  87, 128],\n",
       "         ...,\n",
       "         [173, 105, 156],\n",
       "         [162,  95, 139],\n",
       "         [168, 101, 145]],\n",
       "\n",
       "        [[168,  87, 128],\n",
       "         [183, 102, 143],\n",
       "         [184, 103, 143],\n",
       "         ...,\n",
       "         [168,  98, 145],\n",
       "         [169,  99, 143],\n",
       "         [188, 118, 162]],\n",
       "\n",
       "        ...,\n",
       "\n",
       "        [[ 91,  32,  86],\n",
       "         [104,  45,  99],\n",
       "         [125,  56, 113],\n",
       "         ...,\n",
       "         [195, 143, 182],\n",
       "         [195, 144, 187],\n",
       "         [204, 153, 196]],\n",
       "\n",
       "        [[101,  39,  94],\n",
       "         [110,  48, 103],\n",
       "         [124,  56, 113],\n",
       "         ...,\n",
       "         [213, 163, 196],\n",
       "         [214, 164, 199],\n",
       "         [231, 181, 216]],\n",
       "\n",
       "        [[108,  45,  98],\n",
       "         [113,  50, 103],\n",
       "         [121,  56, 114],\n",
       "         ...,\n",
       "         [233, 187, 210],\n",
       "         [231, 181, 208],\n",
       "         [231, 181, 208]]],\n",
       "\n",
       "\n",
       "       [[[147,  70, 110],\n",
       "         [153,  76, 116],\n",
       "         [164,  83, 124],\n",
       "         ...,\n",
       "         [190, 116, 151],\n",
       "         [178,  99, 136],\n",
       "         [179, 100, 137]],\n",
       "\n",
       "        [[139,  64, 103],\n",
       "         [144,  69, 108],\n",
       "         [150,  73, 117],\n",
       "         ...,\n",
       "         [185, 118, 146],\n",
       "         [180, 108, 145],\n",
       "         [183, 111, 148]],\n",
       "\n",
       "        [[133,  58,  99],\n",
       "         [137,  62, 103],\n",
       "         [140,  64, 111],\n",
       "         ...,\n",
       "         [179, 116, 142],\n",
       "         [179, 115, 149],\n",
       "         [182, 118, 152]],\n",
       "\n",
       "        ...,\n",
       "\n",
       "        [[146,  82, 130],\n",
       "         [149,  85, 133],\n",
       "         [169,  96, 139],\n",
       "         ...,\n",
       "         [ 52,  23,  69],\n",
       "         [ 58,  24,  72],\n",
       "         [ 57,  23,  71]],\n",
       "\n",
       "        [[164,  97, 138],\n",
       "         [174, 107, 148],\n",
       "         [182, 110, 150],\n",
       "         ...,\n",
       "         [ 49,  19,  73],\n",
       "         [ 56,  21,  75],\n",
       "         [ 56,  21,  75]],\n",
       "\n",
       "        [[186, 117, 148],\n",
       "         [189, 120, 151],\n",
       "         [178, 108, 145],\n",
       "         ...,\n",
       "         [ 62,  20,  76],\n",
       "         [ 70,  26,  79],\n",
       "         [ 72,  28,  81]]],\n",
       "\n",
       "\n",
       "       [[[ 46,  15,  47],\n",
       "         [ 53,   9,  44],\n",
       "         [ 64,  20,  55],\n",
       "         ...,\n",
       "         [125,  59,  97],\n",
       "         [ 95,  29,  67],\n",
       "         [ 79,  25,  61]],\n",
       "\n",
       "        [[ 53,  15,  48],\n",
       "         [ 60,   8,  46],\n",
       "         [ 70,  18,  56],\n",
       "         ...,\n",
       "         [113,  52,  93],\n",
       "         [ 90,  29,  70],\n",
       "         [ 71,  29,  65]],\n",
       "\n",
       "        [[ 58,  18,  52],\n",
       "         [ 59,   7,  43],\n",
       "         [ 67,  15,  51],\n",
       "         ...,\n",
       "         [132,  65, 109],\n",
       "         [111,  44,  88],\n",
       "         [ 81,  30,  73]],\n",
       "\n",
       "        ...,\n",
       "\n",
       "        [[153,  48,  54],\n",
       "         [134,  49,  62],\n",
       "         [128,  43,  56],\n",
       "         ...,\n",
       "         [ 61,  16,  55],\n",
       "         [ 60,  15,  54],\n",
       "         [ 29,   2,  35]],\n",
       "\n",
       "        [[160,  51,  56],\n",
       "         [148,  48,  58],\n",
       "         [141,  41,  51],\n",
       "         ...,\n",
       "         [ 65,  20,  59],\n",
       "         [ 59,  14,  53],\n",
       "         [ 34,   5,  36]],\n",
       "\n",
       "        [[166,  52,  59],\n",
       "         [146,  53,  53],\n",
       "         [140,  47,  47],\n",
       "         ...,\n",
       "         [ 72,  23,  63],\n",
       "         [ 61,  12,  52],\n",
       "         [ 45,  11,  44]]],\n",
       "\n",
       "\n",
       "       ...,\n",
       "\n",
       "\n",
       "       [[[106,  39,  93],\n",
       "         [110,  47,  98],\n",
       "         [101,  38,  89],\n",
       "         ...,\n",
       "         [ 54,  16,  67],\n",
       "         [ 50,  12,  63],\n",
       "         [ 88,  33,  99]],\n",
       "\n",
       "        [[103,  36,  87],\n",
       "         [ 91,  28,  73],\n",
       "         [ 71,   8,  53],\n",
       "         ...,\n",
       "         [ 42,  13,  69],\n",
       "         [ 45,  16,  72],\n",
       "         [ 89,  30,  94]],\n",
       "\n",
       "        [[ 68,  24,  77],\n",
       "         [ 68,  26,  82],\n",
       "         [ 56,  14,  70],\n",
       "         ...,\n",
       "         [ 53,  18,  74],\n",
       "         [ 56,  21,  77],\n",
       "         [ 79,  29,  88]],\n",
       "\n",
       "        ...,\n",
       "\n",
       "        [[ 57,  21,  69],\n",
       "         [ 57,  23,  71],\n",
       "         [ 63,  29,  77],\n",
       "         ...,\n",
       "         [109,  47, 104],\n",
       "         [105,  43, 100],\n",
       "         [100,  53, 105]],\n",
       "\n",
       "        [[ 69,  31,  82],\n",
       "         [ 71,  34,  85],\n",
       "         [ 65,  28,  79],\n",
       "         ...,\n",
       "         [109,  52, 107],\n",
       "         [107,  50, 105],\n",
       "         [ 90,  54, 102]],\n",
       "\n",
       "        [[ 82,  41,  94],\n",
       "         [ 87,  46,  99],\n",
       "         [ 66,  25,  78],\n",
       "         ...,\n",
       "         [ 82,  33,  86],\n",
       "         [ 80,  31,  84],\n",
       "         [ 60,  33,  76]]],\n",
       "\n",
       "\n",
       "       [[[ 63,  33,  85],\n",
       "         [ 66,  38,  89],\n",
       "         [ 56,  28,  79],\n",
       "         ...,\n",
       "         [143,  71, 129],\n",
       "         [146,  74, 132],\n",
       "         [126,  58, 119]],\n",
       "\n",
       "        [[ 37,  18,  72],\n",
       "         [ 44,  23,  80],\n",
       "         [ 41,  20,  77],\n",
       "         ...,\n",
       "         [134,  65, 120],\n",
       "         [147,  78, 133],\n",
       "         [139,  72, 126]],\n",
       "\n",
       "        [[ 52,  23,  80],\n",
       "         [ 55,  26,  82],\n",
       "         [ 48,  19,  75],\n",
       "         ...,\n",
       "         [110,  47, 100],\n",
       "         [127,  64, 117],\n",
       "         [134,  70, 118]],\n",
       "\n",
       "        ...,\n",
       "\n",
       "        [[111,  51,  95],\n",
       "         [104,  52, 101],\n",
       "         [105,  53, 102],\n",
       "         ...,\n",
       "         [ 80,  44, 108],\n",
       "         [ 61,  25,  89],\n",
       "         [ 63,  24,  77]],\n",
       "\n",
       "        [[115,  57, 108],\n",
       "         [107,  52, 107],\n",
       "         [111,  56, 111],\n",
       "         ...,\n",
       "         [ 77,  42, 100],\n",
       "         [ 62,  27,  85],\n",
       "         [ 53,  23,  77]],\n",
       "\n",
       "        [[119,  61, 119],\n",
       "         [107,  52, 109],\n",
       "         [116,  61, 118],\n",
       "         ...,\n",
       "         [ 58,  21,  73],\n",
       "         [ 59,  22,  74],\n",
       "         [ 57,  24,  77]]],\n",
       "\n",
       "\n",
       "       [[[ 94,  23,  63],\n",
       "         [111,  26,  65],\n",
       "         [136,  51,  90],\n",
       "         ...,\n",
       "         [ 66,  14,  52],\n",
       "         [ 68,  16,  54],\n",
       "         [ 86,  15,  59]],\n",
       "\n",
       "        [[ 72,  22,  55],\n",
       "         [ 90,  19,  53],\n",
       "         [115,  44,  78],\n",
       "         ...,\n",
       "         [ 60,  14,  50],\n",
       "         [ 63,  17,  53],\n",
       "         [ 84,  11,  56]],\n",
       "\n",
       "        [[ 71,  21,  58],\n",
       "         [ 87,  22,  54],\n",
       "         [ 93,  28,  60],\n",
       "         ...,\n",
       "         [ 59,  15,  51],\n",
       "         [ 62,  18,  54],\n",
       "         [ 77,  14,  57]],\n",
       "\n",
       "        ...,\n",
       "\n",
       "        [[186, 128, 161],\n",
       "         [190, 139, 170],\n",
       "         [184, 133, 164],\n",
       "         ...,\n",
       "         [ 85,  38,  82],\n",
       "         [ 73,  26,  70],\n",
       "         [ 63,  12,  53]],\n",
       "\n",
       "        [[210, 156, 188],\n",
       "         [213, 176, 202],\n",
       "         [211, 174, 200],\n",
       "         ...,\n",
       "         [ 97,  39,  87],\n",
       "         [ 89,  31,  79],\n",
       "         [ 72,  15,  56]],\n",
       "\n",
       "        [[225, 176, 206],\n",
       "         [238, 190, 222],\n",
       "         [220, 172, 204],\n",
       "         ...,\n",
       "         [106,  40,  88],\n",
       "         [103,  37,  85],\n",
       "         [ 81,  18,  61]]]], dtype=uint8)"
      ]
     },
     "execution_count": 2,
     "metadata": {},
     "output_type": "execute_result"
    }
   ],
   "source": [
    "dirname = '/Users/shauntan2/Documents/Imperial College/Term 2/Machine Learning/ML_Project/data/Kather_texture_2016_image_tiles_5000/01_TUMOR'\n",
    "folderpath = '/Users/shauntan2/Documents/Imperial College/Term 2/Machine Learning/ML_Project/data/Kather_texture_2016_image_tiles_5000'\n",
    "final = []\n",
    "for i in os.listdir(folderpath):\n",
    "    if not i.startswith('.'): # To ignore hidden files\n",
    "        print(i)\n",
    "        for fname in os.listdir(dirname):\n",
    "            im = Image.open(os.path.join(dirname, fname))\n",
    "            imarray = np.array(im)\n",
    "            final.append(imarray)\n",
    "\n",
    "final = np.asarray(final)\n",
    "final"
   ]
  },
  {
   "cell_type": "code",
   "execution_count": 9,
   "metadata": {},
   "outputs": [
    {
     "data": {
      "text/plain": [
       "(5000, 150, 150, 3)"
      ]
     },
     "execution_count": 9,
     "metadata": {},
     "output_type": "execute_result"
    }
   ],
   "source": [
    "final.shape # Checking the number of arrays and shape, should be 5000, 150px x 150px"
   ]
  },
  {
   "cell_type": "code",
   "execution_count": 5,
   "metadata": {},
   "outputs": [
    {
     "name": "stdout",
     "output_type": "stream",
     "text": [
      "0\n"
     ]
    }
   ],
   "source": [
    "print(final.min())"
   ]
  },
  {
   "cell_type": "code",
   "execution_count": 6,
   "metadata": {},
   "outputs": [
    {
     "name": "stdout",
     "output_type": "stream",
     "text": [
      "255\n"
     ]
    }
   ],
   "source": [
    "print(final.max())"
   ]
  },
  {
   "cell_type": "code",
   "execution_count": 22,
   "metadata": {},
   "outputs": [],
   "source": [
    "# To save the images data as arrays as a separate file\n",
    "# np.save('/Users/shauntan2/Documents/Imperial College/Term 2/Machine Learning/ML_Project/data/crc_images_array', final)"
   ]
  },
  {
   "cell_type": "markdown",
   "metadata": {},
   "source": [
    "# Unsupervised Method: K-Means Clustering"
   ]
  },
  {
   "cell_type": "code",
   "execution_count": 15,
   "metadata": {},
   "outputs": [
    {
     "data": {
      "text/plain": [
       "(5000, 67500)"
      ]
     },
     "execution_count": 15,
     "metadata": {},
     "output_type": "execute_result"
    }
   ],
   "source": [
    "# Reshape data for clustering\n",
    "# Clustering of images require it to be 2D arrays\n",
    "final_clustering = np.reshape(final, (final.shape[0], -1))\n",
    "final_clustering.shape"
   ]
  },
  {
   "cell_type": "code",
   "execution_count": 17,
   "metadata": {},
   "outputs": [],
   "source": [
    "# Data Normalisation\n",
    "final_clustering_standard = StandardScaler().fit_transform(final_clustering)"
   ]
  },
  {
   "cell_type": "code",
   "execution_count": 26,
   "metadata": {},
   "outputs": [
    {
     "data": {
      "text/plain": [
       "Text(0.5, 1.0, 'Clustering of CRC images data')"
      ]
     },
     "execution_count": 26,
     "metadata": {},
     "output_type": "execute_result"
    },
    {
     "data": {
      "image/png": "[encoded data removed]",
      "text/plain": [
       "<Figure size 432x288 with 1 Axes>"
      ]
     },
     "metadata": {
      "needs_background": "light"
     },
     "output_type": "display_data"
    }
   ],
   "source": [
    "# Plotting the data from the images array data\n",
    "plt.scatter(final_clustering_standard[:, 0], final_clustering_standard[:, 1])\n",
    "plt.title(\"Clustering of CRC images data\")"
   ]
  },
  {
   "cell_type": "code",
   "execution_count": 20,
   "metadata": {},
   "outputs": [
    {
     "name": "stdout",
     "output_type": "stream",
     "text": [
      "For n_clusters = 6 The average silhouette_score is : 0.030072942567315773\n",
      "For n_clusters = 7 The average silhouette_score is : 0.028956195663046424\n",
      "For n_clusters = 8 The average silhouette_score is : 0.04804625422451934\n"
     ]
    }
   ],
   "source": [
    "## Check which number of clusters works best \n",
    "n_cluster_list = [6,7,8,9,10] # there can't be more clusters as n\n",
    "\n",
    "elbow = []\n",
    "ss = []\n",
    "for n_clusters in n_cluster_list:\n",
    "   #iterating through cluster sizes\n",
    "    clusterer = KMeans(n_clusters = n_clusters, random_state=42)\n",
    "    cluster_labels = clusterer.fit_predict(final_clustering_standard)\n",
    "    #Finding the average silhouette score\n",
    "    silhouette_avg = metrics.silhouette_score(final_clustering_standard, cluster_labels)\n",
    "    ss.append(silhouette_avg)\n",
    "    print(\"For n_clusters =\", n_clusters,\"The average silhouette_score is :\", silhouette_avg)\n",
    "    #Finding the average SSE\"\n",
    "    elbow.append(clusterer.inertia_) # Inertia: Sum of distances of samples to their closest cluster center"
   ]
  },
  {
   "cell_type": "code",
   "execution_count": 23,
   "metadata": {},
   "outputs": [
    {
     "data": {
      "image/png": "[encoded data removed]",
      "text/plain": [
       "<Figure size 1008x504 with 2 Axes>"
      ]
     },
     "metadata": {
      "needs_background": "light"
     },
     "output_type": "display_data"
    }
   ],
   "source": [
    "# Plotting silhouette score and elbow method\n",
    "fig = plt.figure(figsize=(14,7))\n",
    "fig.add_subplot(121)\n",
    "plt.plot(n_cluster_list, elbow,'bx-',label='Sum of squared error')\n",
    "plt.xlabel(\"Number of cluster\")\n",
    "plt.ylabel(\"SSE\")\n",
    "plt.legend()\n",
    "fig.add_subplot(122)\n",
    "plt.plot(n_cluster_list, ss,'bx-',label='Silhouette Score')\n",
    "plt.xlabel(\"Number of cluster\")\n",
    "plt.ylabel(\"Silhouette Score\")\n",
    "plt.legend()\n",
    "plt.show()"
   ]
  },
  {
   "cell_type": "code",
   "execution_count": 32,
   "metadata": {},
   "outputs": [],
   "source": [
    "# Using a cluster of 8\n",
    "kmeans = KMeans(n_clusters = 8, init ='k-means++', max_iter=300, n_init=10,random_state=0 )\n",
    "y_kmeans = kmeans.fit_predict(final_clustering_standard)\n",
    "print('Done')"
   ]
  },
  {
   "cell_type": "code",
   "execution_count": 34,
   "metadata": {},
   "outputs": [
    {
     "data": {
      "image/png": "[encoded data removed]",
      "text/plain": [
       "<Figure size 432x288 with 1 Axes>"
      ]
     },
     "metadata": {
      "needs_background": "light"
     },
     "output_type": "display_data"
    }
   ],
   "source": [
    "# Plotting the results after clustering\n",
    " \n",
    "#plotting the results:\n",
    " \n",
    "for i in u_labels:\n",
    "    plt.scatter(final_clustering_standard[y_kmeans == i , 0] , final_clustering_standard[y_kmeans == i , 1] , label = i)\n",
    "\n",
    "# Plot the centroid. This time we're going to use the cluster centres  #attribute that returns here the coordinates of the centroid.plt.scatter(kmeans.cluster_centers_[:, 0], kmeans.cluster_centers_[:, 1], s=300, c='yellow', label = 'Centroids')\n",
    "# plt.scatter(kmeans.cluster_centers_[:, 0], kmeans.cluster_centers_[:, 1], s=300, c='yellow', label = 'Centroids')\n",
    "plt.title('Clusters of colorectal cancer images')\n",
    "plt.show()"
   ]
  },
  {
   "cell_type": "markdown",
   "metadata": {},
   "source": [
    "# Supervised Method: Random Forest"
   ]
  },
  {
   "cell_type": "code",
   "execution_count": null,
   "metadata": {},
   "outputs": [],
   "source": []
  },
  {
   "cell_type": "markdown",
   "metadata": {},
   "source": [
    "# Supervised Method: Convolutional Neural Network"
   ]
  },
  {
   "cell_type": "code",
   "execution_count": null,
   "metadata": {},
   "outputs": [],
   "source": []
  }
 ],
 "metadata": {
  "kernelspec": {
   "display_name": "Python 3",
   "language": "python",
   "name": "python3"
  },
  "language_info": {
   "codemirror_mode": {
    "name": "ipython",
    "version": 3
   },
   "file_extension": ".py",
   "mimetype": "text/x-python",
   "name": "python",
   "nbconvert_exporter": "python",
   "pygments_lexer": "ipython3",
   "version": "3.8.5"
  }
 },
 "nbformat": 4,
 "nbformat_minor": 4
}
