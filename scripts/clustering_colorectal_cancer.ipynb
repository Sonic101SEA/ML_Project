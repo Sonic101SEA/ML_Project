{
 "cells": [
  {
   "cell_type": "markdown",
   "metadata": {},
   "source": [
    "# Libraries"
   ]
  },
  {
   "cell_type": "code",
   "execution_count": 1,
   "metadata": {},
   "outputs": [],
   "source": [
    "import os \n",
    "from PIL import Image\n",
    "\n",
    "import numpy as np\n",
    "import pandas as pd\n",
    "import seaborn as sns\n",
    "import matplotlib.pyplot as plt\n",
    "\n",
    "# For K-means clustering\n",
    "\n",
    "from sklearn.preprocessing import StandardScaler\n",
    "from sklearn.cluster import KMeans\n",
    "from sklearn import metrics\n",
    "\n",
    "# For random forest\n",
    "\n",
    "\n",
    "# For CNN\n",
    "\n",
    "# import torch\n",
    "# import torch.nn as nn\n",
    "# import torch.nn.functional as F \n",
    "# import torch.optim as optim\n",
    "# from torch.utils.data import Dataset, DataLoader\n",
    "\n",
    "# # For classification and testing accuracy\n",
    "\n",
    "    \n",
    "# from sklearn.model_selection import train_test_split\n",
    "# from sklearn.metrics import confusion_matrix, classification_report, mean_squared_error, mean_absolute_error, r2_score"
   ]
  },
  {
   "cell_type": "markdown",
   "metadata": {},
   "source": [
    "# Data"
   ]
  },
  {
   "cell_type": "code",
   "execution_count": 2,
   "metadata": {},
   "outputs": [
    {
     "name": "stdout",
     "output_type": "stream",
     "text": [
      "02_STROMA\n",
      "06_MUCOSA\n",
      "05_DEBRIS\n",
      "01_TUMOR\n",
      "03_COMPLEX\n",
      "08_EMPTY\n",
      "04_LYMPHO\n",
      "07_ADIPOSE\n"
     ]
    },
    {
     "data": {
      "text/plain": [
       "array([[[[132,  37,  75],\n",
       "         [124,  37,  66],\n",
       "         [121,  34,  63],\n",
       "         ...,\n",
       "         [183,  88, 126],\n",
       "         [167,  72, 110],\n",
       "         [163,  67, 112]],\n",
       "\n",
       "        [[134,  36,  69],\n",
       "         [103,  24,  61],\n",
       "         [105,  26,  63],\n",
       "         ...,\n",
       "         [170,  78, 117],\n",
       "         [183,  91, 130],\n",
       "         [177,  84, 128]],\n",
       "\n",
       "        [[145,  44,  72],\n",
       "         [110,  35,  76],\n",
       "         [105,  30,  71],\n",
       "         ...,\n",
       "         [160,  70, 106],\n",
       "         [177,  87, 123],\n",
       "         [157,  62, 100]],\n",
       "\n",
       "        ...,\n",
       "\n",
       "        [[153,  35,  55],\n",
       "         [133,  25,  57],\n",
       "         [152,  44,  76],\n",
       "         ...,\n",
       "         [142,  34,  65],\n",
       "         [144,  36,  67],\n",
       "         [133,  28,  68]],\n",
       "\n",
       "        [[146,  34,  56],\n",
       "         [140,  32,  56],\n",
       "         [153,  45,  69],\n",
       "         ...,\n",
       "         [159,  41,  65],\n",
       "         [161,  43,  67],\n",
       "         [127,  27,  71]],\n",
       "\n",
       "        [[158,  41,  67],\n",
       "         [131,  33,  54],\n",
       "         [137,  39,  60],\n",
       "         ...,\n",
       "         [177,  46,  72],\n",
       "         [183,  52,  78],\n",
       "         [139,  40,  78]]],\n",
       "\n",
       "\n",
       "       [[[171,  91, 134],\n",
       "         [175,  95, 138],\n",
       "         [159,  84, 125],\n",
       "         ...,\n",
       "         [160,  88, 136],\n",
       "         [164,  87, 131],\n",
       "         [177, 100, 144]],\n",
       "\n",
       "        [[166,  85, 128],\n",
       "         [161,  80, 123],\n",
       "         [152,  71, 111],\n",
       "         ...,\n",
       "         [165,  88, 142],\n",
       "         [163,  80, 132],\n",
       "         [171,  88, 140]],\n",
       "\n",
       "        [[163,  82, 125],\n",
       "         [163,  82, 125],\n",
       "         [166,  84, 122],\n",
       "         ...,\n",
       "         [178,  96, 152],\n",
       "         [176,  91, 146],\n",
       "         [178,  93, 148]],\n",
       "\n",
       "        ...,\n",
       "\n",
       "        [[ 69,  35,  70],\n",
       "         [ 60,  26,  61],\n",
       "         [ 63,  23,  70],\n",
       "         ...,\n",
       "         [180, 126, 158],\n",
       "         [189, 135, 167],\n",
       "         [206, 152, 184]],\n",
       "\n",
       "        [[ 34,  27,  68],\n",
       "         [ 38,  31,  72],\n",
       "         [ 76,  47,  91],\n",
       "         ...,\n",
       "         [180, 116, 150],\n",
       "         [185, 124, 157],\n",
       "         [208, 147, 180]],\n",
       "\n",
       "        [[ 44,  34,  69],\n",
       "         [ 49,  39,  74],\n",
       "         [ 67,  47,  82],\n",
       "         ...,\n",
       "         [181, 122, 160],\n",
       "         [169, 113, 150],\n",
       "         [183, 127, 164]]],\n",
       "\n",
       "\n",
       "       [[[101,  66, 122],\n",
       "         [ 75,  55, 108],\n",
       "         [ 56,  36,  89],\n",
       "         ...,\n",
       "         [ 82,  56, 117],\n",
       "         [ 85,  59, 120],\n",
       "         [ 94,  59, 113]],\n",
       "\n",
       "        [[105,  73, 138],\n",
       "         [ 88,  58, 122],\n",
       "         [ 70,  40, 104],\n",
       "         ...,\n",
       "         [ 97,  64, 119],\n",
       "         [100,  67, 122],\n",
       "         [ 94,  60, 118]],\n",
       "\n",
       "        [[125,  92, 163],\n",
       "         [ 93,  64, 131],\n",
       "         [ 75,  46, 113],\n",
       "         ...,\n",
       "         [103,  70, 123],\n",
       "         [ 98,  65, 118],\n",
       "         [ 93,  58, 114]],\n",
       "\n",
       "        ...,\n",
       "\n",
       "        [[ 95,  52, 106],\n",
       "         [102,  49, 101],\n",
       "         [133,  80, 132],\n",
       "         ...,\n",
       "         [143,  78, 120],\n",
       "         [172, 107, 149],\n",
       "         [214, 155, 183]],\n",
       "\n",
       "        [[ 83,  49, 108],\n",
       "         [101,  50, 103],\n",
       "         [151, 100, 153],\n",
       "         ...,\n",
       "         [148,  82, 118],\n",
       "         [188, 122, 158],\n",
       "         [229, 169, 203]],\n",
       "\n",
       "        [[ 77,  48, 112],\n",
       "         [102,  53, 108],\n",
       "         [162, 113, 168],\n",
       "         ...,\n",
       "         [156,  88, 119],\n",
       "         [199, 131, 162],\n",
       "         [231, 170, 211]]],\n",
       "\n",
       "\n",
       "       ...,\n",
       "\n",
       "\n",
       "       [[[243, 245, 242],\n",
       "         [243, 245, 242],\n",
       "         [243, 245, 242],\n",
       "         ...,\n",
       "         [241, 243, 240],\n",
       "         [241, 243, 240],\n",
       "         [242, 244, 241]],\n",
       "\n",
       "        [[243, 245, 242],\n",
       "         [243, 245, 242],\n",
       "         [243, 245, 242],\n",
       "         ...,\n",
       "         [241, 243, 240],\n",
       "         [242, 244, 241],\n",
       "         [243, 243, 241]],\n",
       "\n",
       "        [[243, 245, 242],\n",
       "         [243, 245, 242],\n",
       "         [243, 245, 242],\n",
       "         ...,\n",
       "         [243, 243, 241],\n",
       "         [243, 243, 241],\n",
       "         [243, 243, 241]],\n",
       "\n",
       "        ...,\n",
       "\n",
       "        [[244, 244, 244],\n",
       "         [243, 243, 243],\n",
       "         [244, 244, 244],\n",
       "         ...,\n",
       "         [234, 228, 232],\n",
       "         [236, 230, 234],\n",
       "         [237, 231, 235]],\n",
       "\n",
       "        [[244, 246, 245],\n",
       "         [243, 245, 242],\n",
       "         [244, 246, 243],\n",
       "         ...,\n",
       "         [232, 226, 230],\n",
       "         [235, 229, 233],\n",
       "         [238, 232, 236]],\n",
       "\n",
       "        [[244, 246, 243],\n",
       "         [242, 247, 243],\n",
       "         [242, 247, 243],\n",
       "         ...,\n",
       "         [232, 226, 230],\n",
       "         [235, 229, 233],\n",
       "         [237, 231, 235]]],\n",
       "\n",
       "\n",
       "       [[[231, 226, 232],\n",
       "         [233, 228, 234],\n",
       "         [236, 231, 235],\n",
       "         ...,\n",
       "         [240, 240, 242],\n",
       "         [239, 239, 241],\n",
       "         [238, 238, 240]],\n",
       "\n",
       "        [[233, 220, 227],\n",
       "         [235, 222, 229],\n",
       "         [237, 228, 233],\n",
       "         ...,\n",
       "         [240, 240, 242],\n",
       "         [239, 239, 241],\n",
       "         [238, 238, 240]],\n",
       "\n",
       "        [[233, 222, 228],\n",
       "         [235, 224, 230],\n",
       "         [236, 227, 232],\n",
       "         ...,\n",
       "         [241, 241, 243],\n",
       "         [239, 239, 241],\n",
       "         [239, 239, 241]],\n",
       "\n",
       "        ...,\n",
       "\n",
       "        [[243, 238, 244],\n",
       "         [243, 238, 244],\n",
       "         [243, 238, 244],\n",
       "         ...,\n",
       "         [241, 240, 246],\n",
       "         [241, 240, 246],\n",
       "         [241, 240, 246]],\n",
       "\n",
       "        [[243, 238, 244],\n",
       "         [244, 239, 245],\n",
       "         [243, 238, 244],\n",
       "         ...,\n",
       "         [241, 240, 246],\n",
       "         [241, 240, 246],\n",
       "         [242, 241, 247]],\n",
       "\n",
       "        [[243, 238, 244],\n",
       "         [243, 238, 244],\n",
       "         [243, 238, 244],\n",
       "         ...,\n",
       "         [241, 240, 246],\n",
       "         [241, 240, 246],\n",
       "         [241, 240, 246]]],\n",
       "\n",
       "\n",
       "       [[[211, 173, 204],\n",
       "         [164, 126, 157],\n",
       "         [146,  94, 130],\n",
       "         ...,\n",
       "         [242, 242, 244],\n",
       "         [240, 241, 243],\n",
       "         [240, 241, 243]],\n",
       "\n",
       "        [[188, 137, 170],\n",
       "         [161, 110, 143],\n",
       "         [159, 111, 143],\n",
       "         ...,\n",
       "         [240, 240, 242],\n",
       "         [235, 236, 238],\n",
       "         [236, 237, 239]],\n",
       "\n",
       "        [[160, 115, 148],\n",
       "         [152, 107, 140],\n",
       "         [157, 115, 151],\n",
       "         ...,\n",
       "         [238, 238, 240],\n",
       "         [233, 234, 236],\n",
       "         [235, 236, 238]],\n",
       "\n",
       "        ...,\n",
       "\n",
       "        [[250, 241, 244],\n",
       "         [248, 239, 242],\n",
       "         [245, 240, 246],\n",
       "         ...,\n",
       "         [235, 228, 235],\n",
       "         [235, 230, 236],\n",
       "         [237, 232, 238]],\n",
       "\n",
       "        [[249, 239, 237],\n",
       "         [255, 247, 245],\n",
       "         [249, 244, 241],\n",
       "         ...,\n",
       "         [240, 234, 238],\n",
       "         [241, 235, 239],\n",
       "         [241, 235, 239]],\n",
       "\n",
       "        [[247, 237, 228],\n",
       "         [255, 250, 241],\n",
       "         [247, 241, 229],\n",
       "         ...,\n",
       "         [245, 239, 243],\n",
       "         [244, 238, 240],\n",
       "         [245, 239, 241]]]], dtype=uint8)"
      ]
     },
     "execution_count": 2,
     "metadata": {},
     "output_type": "execute_result"
    }
   ],
   "source": [
    "# dirname = '/Users/shauntan2/Documents/Imperial College/Term 2/Machine Learning/ML_Project/data/Kather_texture_2016_image_tiles_5000/01_TUMOR'\n",
    "folderpath = '/Users/shauntan2/Documents/Imperial College/Term 2/Machine Learning/ML_Project/data/Kather_texture_2016_image_tiles_5000'\n",
    "final = []\n",
    "for i in os.listdir(folderpath):\n",
    "    if not i.startswith('.'): # To ignore hidden files\n",
    "        print(i)\n",
    "        for fname in os.listdir(os.path.join(folderpath, i)):\n",
    "            im = Image.open(os.path.join(folderpath, i, fname))\n",
    "            imarray = np.array(im)\n",
    "            final.append(imarray)\n",
    "\n",
    "final = np.asarray(final)\n",
    "final"
   ]
  },
  {
   "cell_type": "code",
   "execution_count": 3,
   "metadata": {},
   "outputs": [
    {
     "data": {
      "text/plain": [
       "(5000, 150, 150, 3)"
      ]
     },
     "execution_count": 3,
     "metadata": {},
     "output_type": "execute_result"
    }
   ],
   "source": [
    "final.shape # Checking the number of arrays and shape, should be 5000, 150px x 150px"
   ]
  },
  {
   "cell_type": "code",
   "execution_count": 4,
   "metadata": {},
   "outputs": [
    {
     "name": "stdout",
     "output_type": "stream",
     "text": [
      "0\n"
     ]
    },
    {
     "data": {
      "text/plain": [
       "5000"
      ]
     },
     "execution_count": 4,
     "metadata": {},
     "output_type": "execute_result"
    }
   ],
   "source": [
    "print(final.min())\n",
    "final.shape[0]"
   ]
  },
  {
   "cell_type": "code",
   "execution_count": 9,
   "metadata": {},
   "outputs": [
    {
     "name": "stdout",
     "output_type": "stream",
     "text": [
      "255\n"
     ]
    }
   ],
   "source": [
    "print(final.max())"
   ]
  },
  {
   "cell_type": "code",
   "execution_count": 10,
   "metadata": {},
   "outputs": [],
   "source": [
    "# To save the images data as arrays as a separate file\n",
    "np.save('/Users/shauntan2/Documents/Imperial College/Term 2/Machine Learning/ML_Project/data/crc_images_array', final)"
   ]
  },
  {
   "cell_type": "markdown",
   "metadata": {},
   "source": [
    "# Unsupervised Method: K-Means Clustering"
   ]
  },
  {
   "cell_type": "code",
   "execution_count": 5,
   "metadata": {},
   "outputs": [
    {
     "data": {
      "text/plain": [
       "(5000, 67500)"
      ]
     },
     "execution_count": 5,
     "metadata": {},
     "output_type": "execute_result"
    }
   ],
   "source": [
    "# Reshape data for clustering\n",
    "# Clustering of images require it to be 2D arrays\n",
    "final_clustering = np.reshape(final, (final.shape[0], -1))\n",
    "final_clustering.shape"
   ]
  },
  {
   "cell_type": "code",
   "execution_count": 6,
   "metadata": {},
   "outputs": [],
   "source": [
    "# Data Normalisation\n",
    "final_clustering_standard = StandardScaler().fit_transform(final_clustering)"
   ]
  },
  {
   "cell_type": "code",
   "execution_count": 7,
   "metadata": {},
   "outputs": [
    {
     "data": {
      "text/plain": [
       "Text(0.5, 1.0, 'Clustering of CRC images data')"
      ]
     },
     "execution_count": 7,
     "metadata": {},
     "output_type": "execute_result"
    },
    {
     "data": {
      "image/png": "[encoded data removed]",
      "text/plain": [
       "<Figure size 432x288 with 1 Axes>"
      ]
     },
     "metadata": {
      "needs_background": "light"
     },
     "output_type": "display_data"
    }
   ],
   "source": [
    "# Plotting the data from the images array data\n",
    "plt.scatter(final_clustering_standard[:, 0], final_clustering_standard[:, 1])\n",
    "plt.title(\"Clustering of CRC images data\")"
   ]
  },
  {
   "cell_type": "code",
   "execution_count": 20,
   "metadata": {},
   "outputs": [
    {
     "name": "stdout",
     "output_type": "stream",
     "text": [
      "For n_clusters = 6 The average silhouette_score is : 0.030072942567315773\n",
      "For n_clusters = 7 The average silhouette_score is : 0.028956195663046424\n",
      "For n_clusters = 8 The average silhouette_score is : 0.04804625422451934\n"
     ]
    }
   ],
   "source": [
    "## Check which number of clusters works best \n",
    "n_cluster_list = [4,5,6,7,8,9,10,11,15,20] # there can't be more clusters as n\n",
    "\n",
    "elbow = []\n",
    "ss = []\n",
    "for n_clusters in n_cluster_list:\n",
    "   #iterating through cluster sizes\n",
    "    clusterer = KMeans(n_clusters = n_clusters, random_state=42)\n",
    "    cluster_labels = clusterer.fit_predict(final_clustering_standard)\n",
    "    #Finding the average silhouette score\n",
    "    silhouette_avg = metrics.silhouette_score(final_clustering_standard, cluster_labels)\n",
    "    ss.append(silhouette_avg)\n",
    "    print(\"For n_clusters =\", n_clusters,\"The average silhouette_score is :\", silhouette_avg)\n",
    "    #Finding the average SSE\"\n",
    "    elbow.append(clusterer.inertia_) # Inertia: Sum of distances of samples to their closest cluster center"
   ]
  },
  {
   "cell_type": "code",
   "execution_count": 23,
   "metadata": {},
   "outputs": [
    {
     "data": {
      "image/png": "[encoded data removed]",
      "text/plain": [
       "<Figure size 1008x504 with 2 Axes>"
      ]
     },
     "metadata": {
      "needs_background": "light"
     },
     "output_type": "display_data"
    }
   ],
   "source": [
    "# Plotting silhouette score and elbow method\n",
    "fig = plt.figure(figsize=(14,7))\n",
    "fig.add_subplot(121)\n",
    "plt.plot(n_cluster_list, elbow,'bx-',label='Sum of squared error')\n",
    "plt.xlabel(\"Number of cluster\")\n",
    "plt.ylabel(\"SSE\")\n",
    "plt.legend()\n",
    "fig.add_subplot(122)\n",
    "plt.plot(n_cluster_list, ss,'bx-',label='Silhouette Score')\n",
    "plt.xlabel(\"Number of cluster\")\n",
    "plt.ylabel(\"Silhouette Score\")\n",
    "plt.legend()\n",
    "plt.show()\n",
    "plt.savefig('silhouette_score_elbow.pdf')"
   ]
  },
  {
   "cell_type": "code",
   "execution_count": 8,
   "metadata": {},
   "outputs": [
    {
     "name": "stdout",
     "output_type": "stream",
     "text": [
      "Done\n"
     ]
    }
   ],
   "source": [
    "# Using a cluster of 8\n",
    "kmeans = KMeans(n_clusters = 8, init ='k-means++', max_iter=300, n_init=10,random_state=0 )\n",
    "y_kmeans = kmeans.fit_predict(final_clustering_standard)\n",
    "print('Done')"
   ]
  },
  {
   "cell_type": "code",
   "execution_count": 15,
   "metadata": {},
   "outputs": [
    {
     "data": {
      "image/png": "[encoded data removed]",
      "text/plain": [
       "<Figure size 432x288 with 1 Axes>"
      ]
     },
     "metadata": {
      "needs_background": "light"
     },
     "output_type": "display_data"
    },
    {
     "data": {
      "text/plain": [
       "<Figure size 432x288 with 0 Axes>"
      ]
     },
     "metadata": {},
     "output_type": "display_data"
    }
   ],
   "source": [
    "# Plotting the results after clustering\n",
    "\n",
    "u_labels = np.unique(y_kmeans)\n",
    "\n",
    "#plotting the results:\n",
    " \n",
    "for i in u_labels:\n",
    "    plt.scatter(final_clustering_standard[y_kmeans == i , 0] , final_clustering_standard[y_kmeans == i , 1] , label = i)\n",
    "\n",
    "# Plot the centroid. This time we're going to use the cluster centres  #attribute that returns here the coordinates of the centroid.plt.scatter(kmeans.cluster_centers_[:, 0], kmeans.cluster_centers_[:, 1], s=300, c='yellow', label = 'Centroids')\n",
    "# plt.scatter(kmeans.cluster_centers_[:, 0], kmeans.cluster_centers_[:, 1], s=300, c='yellow', label = 'Centroids')\n",
    "plt.title('Clusters of colorectal cancer images')\n",
    "plt.show()\n",
    "plt.savefig('clustering_crc.pdf')"
   ]
  },
  {
   "cell_type": "markdown",
   "metadata": {},
   "source": [
    "# Supervised Method: Random Forest"
   ]
  },
  {
   "cell_type": "code",
   "execution_count": null,
   "metadata": {},
   "outputs": [],
   "source": []
  },
  {
   "cell_type": "markdown",
   "metadata": {},
   "source": [
    "# Supervised Method: Convolutional Neural Network"
   ]
  },
  {
   "cell_type": "code",
   "execution_count": null,
   "metadata": {},
   "outputs": [],
   "source": []
  }
 ],
 "metadata": {
  "kernelspec": {
   "display_name": "Python 3",
   "language": "python",
   "name": "python3"
  },
  "language_info": {
   "codemirror_mode": {
    "name": "ipython",
    "version": 3
   },
   "file_extension": ".py",
   "mimetype": "text/x-python",
   "name": "python",
   "nbconvert_exporter": "python",
   "pygments_lexer": "ipython3",
   "version": "3.8.5"
  }
 },
 "nbformat": 4,
 "nbformat_minor": 4
}
