{
 "cells": [
  {
   "cell_type": "code",
   "execution_count": null,
   "metadata": {},
   "outputs": [],
   "source": [
    "import os \n",
    "from PIL import Image\n",
    "\n",
    "import numpy as np\n",
    "import pandas as pd\n",
    "import matplotlib.pyplot as plt\n",
    "import seaborn as sns\n",
    "\n",
    "# For K-means clustering\n",
    "\n",
    "from sklearn.preprocessing import StandardScaler\n",
    "from sklearn.cluster import KMeans\n",
    "from sklearn import metrics\n",
    "from sklearn.decomposition import PCA"
   ]
  },
  {
   "cell_type": "code",
   "execution_count": null,
   "metadata": {},
   "outputs": [],
   "source": [
    "# dirname = '/Users/shauntan2/Documents/Imperial College/Term 2/Machine Learning/ML_Project/data/Kather_texture_2016_image_tiles_5000/01_TUMOR'\n",
    "folderpath = '../Kather_texture_2016_image_tiles_5000'\n",
    "final = []\n",
    "for i in os.listdir(folderpath):\n",
    "    if not i.startswith('.'): # To ignore hidden files\n",
    "        print(i)\n",
    "        for fname in os.listdir(os.path.join(folderpath, i)):\n",
    "            im = Image.open(os.path.join(folderpath, i, fname))\n",
    "            imarray = np.array(im)\n",
    "            final.append(imarray)\n",
    "\n",
    "final = np.asarray(final)"
   ]
  },
  {
   "cell_type": "code",
   "execution_count": null,
   "metadata": {},
   "outputs": [],
   "source": [
    "# Reshape data for clustering\n",
    "# Clustering of images require it to be 2D arrays\n",
    "final_clustering = np.reshape(final, (final.shape[0], -1))\n",
    "final_clustering.shape"
   ]
  },
  {
   "cell_type": "code",
   "execution_count": null,
   "metadata": {},
   "outputs": [],
   "source": [
    "# Data Normalisation\n",
    "final_clustering_standard = StandardScaler().fit_transform(final_clustering)"
   ]
  },
  {
   "cell_type": "code",
   "execution_count": null,
   "metadata": {},
   "outputs": [],
   "source": [
    "# PCA before clustering\n",
    "pca = PCA()\n",
    "pca.fit(final_clustering_standard)"
   ]
  },
  {
   "cell_type": "code",
   "execution_count": null,
   "metadata": {},
   "outputs": [],
   "source": [
    "pca.explained_variance_ratio"
   ]
  },
  {
   "cell_type": "code",
   "execution_count": null,
   "metadata": {},
   "outputs": [],
   "source": [
    "plt.figure(figsize = 10,8)\n",
    "plt.plot(range(1,100), pca.explained_variance_ratio_.cumsum(), marker = 'o', linestle = '--')\n",
    "plt.title(\"Explained Variance by Components\")\n",
    "plt.xlabel('Number of Components')\n",
    "plt.ylabel(\"Cumulative Explained Variance\")\n",
    "plt.savefig('pca_crc.pdf')"
   ]
  },
  {
   "cell_type": "code",
   "execution_count": null,
   "metadata": {},
   "outputs": [],
   "source": []
  },
  {
   "cell_type": "code",
   "execution_count": null,
   "metadata": {},
   "outputs": [],
   "source": []
  }
 ],
 "metadata": {
  "kernelspec": {
   "display_name": "Python3.8(ML)",
   "language": "python",
   "name": "python3_ml"
  },
  "language_info": {
   "codemirror_mode": {
    "name": "ipython",
    "version": 3
   },
   "file_extension": ".py",
   "mimetype": "text/x-python",
   "name": "python",
   "nbconvert_exporter": "python",
   "pygments_lexer": "ipython3",
   "version": "3.8.13"
  }
 },
 "nbformat": 4,
 "nbformat_minor": 2
}
