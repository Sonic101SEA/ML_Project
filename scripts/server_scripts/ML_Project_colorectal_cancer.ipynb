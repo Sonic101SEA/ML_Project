{
 "cells": [
  {
   "cell_type": "markdown",
   "metadata": {},
   "source": [
    "# Libraries"
   ]
  },
  {
   "cell_type": "code",
   "execution_count": 1,
   "metadata": {},
   "outputs": [],
   "source": [
    "import os \n",
    "from PIL import Image\n",
    "\n",
    "import numpy as np\n",
    "import pandas as pd\n",
    "import matplotlib.pyplot as plt\n",
    "import seaborn as sns\n",
    "\n",
    "# For K-means clustering\n",
    "\n",
    "from sklearn.preprocessing import StandardScaler\n",
    "from sklearn.cluster import KMeans\n",
    "from sklearn import metrics\n",
    "from sklearn.decomposition import PCA\n",
    "\n",
    "# For random forest\n",
    "\n",
    "\n",
    "# For CNN\n",
    "\n",
    "# import torch\n",
    "# import torch.nn as nn\n",
    "# import torch.nn.functional as F \n",
    "# import torch.optim as optim\n",
    "# from torch.utils.data import Dataset, DataLoader\n",
    "\n",
    "# # For classification and testing accuracy\n",
    "\n",
    "    \n",
    "# from sklearn.model_selection import train_test_split\n",
    "# from sklearn.metrics import confusion_matrix, classification_report, mean_squared_error, mean_absolute_error, r2_score"
   ]
  },
  {
   "cell_type": "markdown",
   "metadata": {},
   "source": [
    "# Data"
   ]
  },
  {
   "cell_type": "code",
   "execution_count": 2,
   "metadata": {},
   "outputs": [
    {
     "name": "stdout",
     "output_type": "stream",
     "text": [
      "05_DEBRIS\n",
      "06_MUCOSA\n",
      "03_COMPLEX\n",
      "07_ADIPOSE\n",
      "01_TUMOR\n",
      "04_LYMPHO\n",
      "08_EMPTY\n",
      "02_STROMA\n"
     ]
    },
    {
     "data": {
      "text/plain": [
       "array([[[[140,  63, 103],\n",
       "         [181,  87, 123],\n",
       "         [195, 101, 137],\n",
       "         ...,\n",
       "         [231, 174, 193],\n",
       "         [231, 174, 193],\n",
       "         [232, 168, 190]],\n",
       "\n",
       "        [[172,  91, 132],\n",
       "         [194,  96, 129],\n",
       "         [196,  98, 131],\n",
       "         ...,\n",
       "         [226, 160, 182],\n",
       "         [230, 164, 186],\n",
       "         [234, 164, 188]],\n",
       "\n",
       "        [[222, 114, 146],\n",
       "         [202,  93, 130],\n",
       "         [200,  91, 128],\n",
       "         ...,\n",
       "         [225, 166, 186],\n",
       "         [233, 174, 194],\n",
       "         [242, 175, 200]],\n",
       "\n",
       "        ...,\n",
       "\n",
       "        [[218, 162, 185],\n",
       "         [213, 101, 149],\n",
       "         [195,  83, 131],\n",
       "         ...,\n",
       "         [190,  79, 106],\n",
       "         [184,  73, 100],\n",
       "         [178,  65,  95]],\n",
       "\n",
       "        [[200, 142, 166],\n",
       "         [207,  92, 141],\n",
       "         [194,  79, 128],\n",
       "         ...,\n",
       "         [181,  68,  96],\n",
       "         [178,  65,  93],\n",
       "         [176,  63,  93]],\n",
       "\n",
       "        [[211, 125, 162],\n",
       "         [187,  91, 128],\n",
       "         [182,  86, 123],\n",
       "         ...,\n",
       "         [193,  64, 102],\n",
       "         [196,  67, 105],\n",
       "         [219,  85, 107]]],\n",
       "\n",
       "\n",
       "       [[[180,  65,  96],\n",
       "         [177,  62,  93],\n",
       "         [174,  63,  88],\n",
       "         ...,\n",
       "         [148,  43,  71],\n",
       "         [170,  59,  86],\n",
       "         [170,  59,  86]],\n",
       "\n",
       "        [[173,  65,  96],\n",
       "         [167,  59,  90],\n",
       "         [167,  55,  85],\n",
       "         ...,\n",
       "         [157,  50,  76],\n",
       "         [195,  71,  97],\n",
       "         [202,  78, 104]],\n",
       "\n",
       "        [[163,  64,  95],\n",
       "         [156,  57,  88],\n",
       "         [158,  48,  81],\n",
       "         ...,\n",
       "         [162,  50,  74],\n",
       "         [196,  62,  87],\n",
       "         [218,  84, 109]],\n",
       "\n",
       "        ...,\n",
       "\n",
       "        [[149,  41,  75],\n",
       "         [160,  52,  86],\n",
       "         [164,  56,  88],\n",
       "         ...,\n",
       "         [160,  55,  83],\n",
       "         [159,  52,  78],\n",
       "         [160,  53,  79]],\n",
       "\n",
       "        [[144,  42,  74],\n",
       "         [159,  57,  89],\n",
       "         [166,  52,  86],\n",
       "         ...,\n",
       "         [157,  50,  74],\n",
       "         [160,  50,  85],\n",
       "         [146,  36,  71]],\n",
       "\n",
       "        [[145,  47,  80],\n",
       "         [150,  52,  85],\n",
       "         [152,  46,  82],\n",
       "         ...,\n",
       "         [151,  46,  74],\n",
       "         [142,  44,  75],\n",
       "         [137,  39,  70]]],\n",
       "\n",
       "\n",
       "       [[[180,  71, 102],\n",
       "         [172,  63,  94],\n",
       "         [162,  56,  90],\n",
       "         ...,\n",
       "         [181,  66, 105],\n",
       "         [182,  54,  89],\n",
       "         [179,  51,  86]],\n",
       "\n",
       "        [[164,  57,  81],\n",
       "         [174,  67,  91],\n",
       "         [189,  75, 108],\n",
       "         ...,\n",
       "         [178,  59,  99],\n",
       "         [178,  58,  91],\n",
       "         [179,  59,  92]],\n",
       "\n",
       "        [[147,  44,  61],\n",
       "         [166,  63,  80],\n",
       "         [201,  74, 103],\n",
       "         ...,\n",
       "         [189,  68, 107],\n",
       "         [203,  73, 107],\n",
       "         [200,  70, 104]],\n",
       "\n",
       "        ...,\n",
       "\n",
       "        [[198,  78, 113],\n",
       "         [197,  77, 112],\n",
       "         [212,  87, 125],\n",
       "         ...,\n",
       "         [131,  46,  62],\n",
       "         [155,  44,  68],\n",
       "         [163,  52,  76]],\n",
       "\n",
       "        [[181,  66,  99],\n",
       "         [190,  75, 108],\n",
       "         [219, 103, 140],\n",
       "         ...,\n",
       "         [169,  47,  78],\n",
       "         [160,  51,  80],\n",
       "         [161,  52,  81]],\n",
       "\n",
       "        [[185,  73,  97],\n",
       "         [196,  84, 108],\n",
       "         [204,  88, 125],\n",
       "         ...,\n",
       "         [188,  53,  81],\n",
       "         [160,  56,  81],\n",
       "         [157,  53,  78]]],\n",
       "\n",
       "\n",
       "       ...,\n",
       "\n",
       "\n",
       "       [[[162, 108, 144],\n",
       "         [225, 176, 195],\n",
       "         [218, 169, 188],\n",
       "         ...,\n",
       "         [169,  79, 114],\n",
       "         [146,  56,  91],\n",
       "         [108,  41,  82]],\n",
       "\n",
       "        [[156, 104, 142],\n",
       "         [222, 179, 196],\n",
       "         [231, 188, 205],\n",
       "         ...,\n",
       "         [179,  85, 121],\n",
       "         [155,  61,  97],\n",
       "         [114,  43,  85]],\n",
       "\n",
       "        [[157, 109, 143],\n",
       "         [213, 176, 193],\n",
       "         [243, 206, 223],\n",
       "         ...,\n",
       "         [190,  90, 128],\n",
       "         [165,  65, 103],\n",
       "         [119,  46,  91]],\n",
       "\n",
       "        ...,\n",
       "\n",
       "        [[163,  67, 102],\n",
       "         [168,  72, 109],\n",
       "         [177,  81, 118],\n",
       "         ...,\n",
       "         [233, 178, 192],\n",
       "         [239, 184, 198],\n",
       "         [238, 204, 213]],\n",
       "\n",
       "        [[175,  77, 108],\n",
       "         [161,  73,  98],\n",
       "         [161,  73,  98],\n",
       "         ...,\n",
       "         [206, 149, 166],\n",
       "         [225, 168, 185],\n",
       "         [244, 210, 221]],\n",
       "\n",
       "        [[174,  77, 105],\n",
       "         [164,  74, 100],\n",
       "         [157,  67,  93],\n",
       "         ...,\n",
       "         [173, 119, 142],\n",
       "         [191, 137, 160],\n",
       "         [213, 170, 189]]],\n",
       "\n",
       "\n",
       "       [[[210,  96, 129],\n",
       "         [201,  87, 130],\n",
       "         [183,  69, 112],\n",
       "         ...,\n",
       "         [245, 208, 226],\n",
       "         [221, 184, 202],\n",
       "         [200, 156, 181]],\n",
       "\n",
       "        [[207,  96, 123],\n",
       "         [195,  78, 128],\n",
       "         [184,  67, 117],\n",
       "         ...,\n",
       "         [226, 180, 200],\n",
       "         [220, 174, 194],\n",
       "         [212, 172, 198]],\n",
       "\n",
       "        [[189,  81, 112],\n",
       "         [194,  72, 118],\n",
       "         [197,  75, 121],\n",
       "         ...,\n",
       "         [235, 189, 202],\n",
       "         [239, 193, 206],\n",
       "         [235, 196, 215]],\n",
       "\n",
       "        ...,\n",
       "\n",
       "        [[153,  72, 113],\n",
       "         [184,  98, 147],\n",
       "         [184,  98, 147],\n",
       "         ...,\n",
       "         [255, 189, 188],\n",
       "         [246, 178, 177],\n",
       "         [208, 104, 135]],\n",
       "\n",
       "        [[171,  84, 126],\n",
       "         [194, 107, 152],\n",
       "         [189, 102, 147],\n",
       "         ...,\n",
       "         [223, 129, 153],\n",
       "         [243, 149, 173],\n",
       "         [240, 117, 146]],\n",
       "\n",
       "        [[175,  84, 123],\n",
       "         [184,  95, 135],\n",
       "         [182,  93, 133],\n",
       "         ...,\n",
       "         [151,  75, 111],\n",
       "         [184, 108, 144],\n",
       "         [222, 108, 131]]],\n",
       "\n",
       "\n",
       "       [[[178,  99, 136],\n",
       "         [188, 105, 125],\n",
       "         [206, 123, 143],\n",
       "         ...,\n",
       "         [145,  72, 115],\n",
       "         [148,  75, 118],\n",
       "         [166,  77, 131]],\n",
       "\n",
       "        [[172,  95, 147],\n",
       "         [155, 105, 166],\n",
       "         [160, 110, 171],\n",
       "         ...,\n",
       "         [142,  73, 114],\n",
       "         [152,  83, 124],\n",
       "         [156,  72, 124]],\n",
       "\n",
       "        [[227, 139, 171],\n",
       "         [226, 182, 215],\n",
       "         [232, 188, 221],\n",
       "         ...,\n",
       "         [145,  76, 115],\n",
       "         [160,  91, 130],\n",
       "         [149,  71, 119]],\n",
       "\n",
       "        ...,\n",
       "\n",
       "        [[179,  81, 116],\n",
       "         [177,  84, 113],\n",
       "         [178,  85, 114],\n",
       "         ...,\n",
       "         [223, 149, 172],\n",
       "         [233, 159, 182],\n",
       "         [189, 103, 150]],\n",
       "\n",
       "        [[182,  86, 121],\n",
       "         [173,  84, 114],\n",
       "         [165,  76, 106],\n",
       "         ...,\n",
       "         [212, 136, 156],\n",
       "         [217, 141, 161],\n",
       "         [215, 137, 187]],\n",
       "\n",
       "        [[197, 101, 138],\n",
       "         [188,  98, 131],\n",
       "         [171,  81, 114],\n",
       "         ...,\n",
       "         [214, 137, 161],\n",
       "         [213, 136, 160],\n",
       "         [209, 133, 177]]]], dtype=uint8)"
      ]
     },
     "execution_count": 2,
     "metadata": {},
     "output_type": "execute_result"
    }
   ],
   "source": [
    "# dirname = '/Users/shauntan2/Documents/Imperial College/Term 2/Machine Learning/ML_Project/data/Kather_texture_2016_image_tiles_5000/01_TUMOR'\n",
    "folderpath = '../Kather_texture_2016_image_tiles_5000'\n",
    "final = []\n",
    "for i in os.listdir(folderpath):\n",
    "    if not i.startswith('.'): # To ignore hidden files\n",
    "        print(i)\n",
    "        for fname in os.listdir(os.path.join(folderpath, i)):\n",
    "            im = Image.open(os.path.join(folderpath, i, fname))\n",
    "            imarray = np.array(im)\n",
    "            final.append(imarray)\n",
    "\n",
    "final = np.asarray(final)\n",
    "final"
   ]
  },
  {
   "cell_type": "code",
   "execution_count": 3,
   "metadata": {},
   "outputs": [
    {
     "data": {
      "text/plain": [
       "(5000, 150, 150, 3)"
      ]
     },
     "execution_count": 3,
     "metadata": {},
     "output_type": "execute_result"
    }
   ],
   "source": [
    "final.shape # Checking the number of arrays and shape, should be 5000, 150px x 150px"
   ]
  },
  {
   "cell_type": "code",
   "execution_count": 4,
   "metadata": {},
   "outputs": [
    {
     "name": "stdout",
     "output_type": "stream",
     "text": [
      "0\n"
     ]
    }
   ],
   "source": [
    "print(final.min())"
   ]
  },
  {
   "cell_type": "code",
   "execution_count": 5,
   "metadata": {},
   "outputs": [
    {
     "name": "stdout",
     "output_type": "stream",
     "text": [
      "255\n"
     ]
    }
   ],
   "source": [
    "print(final.max())"
   ]
  },
  {
   "cell_type": "code",
   "execution_count": 22,
   "metadata": {},
   "outputs": [],
   "source": [
    "# To save the images data as arrays as a separate file\n",
    "# np.save('/Users/shauntan2/Documents/Imperial College/Term 2/Machine Learning/ML_Project/data/crc_images_array', final)"
   ]
  },
  {
   "cell_type": "markdown",
   "metadata": {},
   "source": [
    "# Unsupervised Method: K-Means Clustering"
   ]
  },
  {
   "cell_type": "code",
   "execution_count": 4,
   "metadata": {},
   "outputs": [
    {
     "data": {
      "text/plain": [
       "(5000, 67500)"
      ]
     },
     "execution_count": 4,
     "metadata": {},
     "output_type": "execute_result"
    }
   ],
   "source": [
    "# Reshape data for clustering\n",
    "# Clustering of images require it to be 2D arrays\n",
    "final_clustering = np.reshape(final, (final.shape[0], -1))\n",
    "final_clustering.shape"
   ]
  },
  {
   "cell_type": "code",
   "execution_count": 5,
   "metadata": {},
   "outputs": [],
   "source": [
    "# Data Normalisation\n",
    "final_clustering_standard = StandardScaler().fit_transform(final_clustering)"
   ]
  },
  {
   "cell_type": "code",
   "execution_count": 6,
   "metadata": {},
   "outputs": [
    {
     "data": {
      "text/plain": [
       "Text(0.5, 1.0, 'Clustering of CRC images data')"
      ]
     },
     "execution_count": 6,
     "metadata": {},
     "output_type": "execute_result"
    },
    {
     "data": {
      "image/png": "[encoded data removed]",
      "text/plain": [
       "<Figure size 432x288 with 1 Axes>"
      ]
     },
     "metadata": {
      "needs_background": "light"
     },
     "output_type": "display_data"
    }
   ],
   "source": [
    "# Plotting the data from the images array data\n",
    "plt.scatter(final_clustering_standard[:, 0], final_clustering_standard[:, 1])\n",
    "plt.title(\"Clustering of CRC images data\")"
   ]
  },
  {
   "cell_type": "code",
   "execution_count": 7,
   "metadata": {},
   "outputs": [
    {
     "ename": "KeyboardInterrupt",
     "evalue": "",
     "output_type": "error",
     "traceback": [
      "\u001b[0;31m---------------------------------------------------------------------------\u001b[0m",
      "\u001b[0;31mKeyboardInterrupt\u001b[0m                         Traceback (most recent call last)",
      "Input \u001b[0;32mIn [7]\u001b[0m, in \u001b[0;36m<cell line: 3>\u001b[0;34m()\u001b[0m\n\u001b[1;32m      1\u001b[0m \u001b[38;5;66;03m# PCA before clustering\u001b[39;00m\n\u001b[1;32m      2\u001b[0m pca \u001b[38;5;241m=\u001b[39m PCA()\n\u001b[0;32m----> 3\u001b[0m \u001b[43mpca\u001b[49m\u001b[38;5;241;43m.\u001b[39;49m\u001b[43mfit\u001b[49m\u001b[43m(\u001b[49m\u001b[43mfinal_clustering_standard\u001b[49m\u001b[43m)\u001b[49m\n",
      "File \u001b[0;32m~/anaconda3/envs/ml_project_env/lib/python3.8/site-packages/sklearn/decomposition/_pca.py:351\u001b[0m, in \u001b[0;36mPCA.fit\u001b[0;34m(self, X, y)\u001b[0m\n\u001b[1;32m    334\u001b[0m \u001b[38;5;28;01mdef\u001b[39;00m \u001b[38;5;21mfit\u001b[39m(\u001b[38;5;28mself\u001b[39m, X, y\u001b[38;5;241m=\u001b[39m\u001b[38;5;28;01mNone\u001b[39;00m):\n\u001b[1;32m    335\u001b[0m     \u001b[38;5;124;03m\"\"\"Fit the model with X.\u001b[39;00m\n\u001b[1;32m    336\u001b[0m \n\u001b[1;32m    337\u001b[0m \u001b[38;5;124;03m    Parameters\u001b[39;00m\n\u001b[0;32m   (...)\u001b[0m\n\u001b[1;32m    349\u001b[0m \u001b[38;5;124;03m        Returns the instance itself.\u001b[39;00m\n\u001b[1;32m    350\u001b[0m \u001b[38;5;124;03m    \"\"\"\u001b[39;00m\n\u001b[0;32m--> 351\u001b[0m     \u001b[38;5;28;43mself\u001b[39;49m\u001b[38;5;241;43m.\u001b[39;49m\u001b[43m_fit\u001b[49m\u001b[43m(\u001b[49m\u001b[43mX\u001b[49m\u001b[43m)\u001b[49m\n\u001b[1;32m    352\u001b[0m     \u001b[38;5;28;01mreturn\u001b[39;00m \u001b[38;5;28mself\u001b[39m\n",
      "File \u001b[0;32m~/anaconda3/envs/ml_project_env/lib/python3.8/site-packages/sklearn/decomposition/_pca.py:423\u001b[0m, in \u001b[0;36mPCA._fit\u001b[0;34m(self, X)\u001b[0m\n\u001b[1;32m    421\u001b[0m \u001b[38;5;66;03m# Call different fits for either full or truncated SVD\u001b[39;00m\n\u001b[1;32m    422\u001b[0m \u001b[38;5;28;01mif\u001b[39;00m \u001b[38;5;28mself\u001b[39m\u001b[38;5;241m.\u001b[39m_fit_svd_solver \u001b[38;5;241m==\u001b[39m \u001b[38;5;124m'\u001b[39m\u001b[38;5;124mfull\u001b[39m\u001b[38;5;124m'\u001b[39m:\n\u001b[0;32m--> 423\u001b[0m     \u001b[38;5;28;01mreturn\u001b[39;00m \u001b[38;5;28;43mself\u001b[39;49m\u001b[38;5;241;43m.\u001b[39;49m\u001b[43m_fit_full\u001b[49m\u001b[43m(\u001b[49m\u001b[43mX\u001b[49m\u001b[43m,\u001b[49m\u001b[43m \u001b[49m\u001b[43mn_components\u001b[49m\u001b[43m)\u001b[49m\n\u001b[1;32m    424\u001b[0m \u001b[38;5;28;01melif\u001b[39;00m \u001b[38;5;28mself\u001b[39m\u001b[38;5;241m.\u001b[39m_fit_svd_solver \u001b[38;5;129;01min\u001b[39;00m [\u001b[38;5;124m'\u001b[39m\u001b[38;5;124marpack\u001b[39m\u001b[38;5;124m'\u001b[39m, \u001b[38;5;124m'\u001b[39m\u001b[38;5;124mrandomized\u001b[39m\u001b[38;5;124m'\u001b[39m]:\n\u001b[1;32m    425\u001b[0m     \u001b[38;5;28;01mreturn\u001b[39;00m \u001b[38;5;28mself\u001b[39m\u001b[38;5;241m.\u001b[39m_fit_truncated(X, n_components, \u001b[38;5;28mself\u001b[39m\u001b[38;5;241m.\u001b[39m_fit_svd_solver)\n",
      "File \u001b[0;32m~/anaconda3/envs/ml_project_env/lib/python3.8/site-packages/sklearn/decomposition/_pca.py:454\u001b[0m, in \u001b[0;36mPCA._fit_full\u001b[0;34m(self, X, n_components)\u001b[0m\n\u001b[1;32m    451\u001b[0m \u001b[38;5;28mself\u001b[39m\u001b[38;5;241m.\u001b[39mmean_ \u001b[38;5;241m=\u001b[39m np\u001b[38;5;241m.\u001b[39mmean(X, axis\u001b[38;5;241m=\u001b[39m\u001b[38;5;241m0\u001b[39m)\n\u001b[1;32m    452\u001b[0m X \u001b[38;5;241m-\u001b[39m\u001b[38;5;241m=\u001b[39m \u001b[38;5;28mself\u001b[39m\u001b[38;5;241m.\u001b[39mmean_\n\u001b[0;32m--> 454\u001b[0m U, S, V \u001b[38;5;241m=\u001b[39m \u001b[43mlinalg\u001b[49m\u001b[38;5;241;43m.\u001b[39;49m\u001b[43msvd\u001b[49m\u001b[43m(\u001b[49m\u001b[43mX\u001b[49m\u001b[43m,\u001b[49m\u001b[43m \u001b[49m\u001b[43mfull_matrices\u001b[49m\u001b[38;5;241;43m=\u001b[39;49m\u001b[38;5;28;43;01mFalse\u001b[39;49;00m\u001b[43m)\u001b[49m\n\u001b[1;32m    455\u001b[0m \u001b[38;5;66;03m# flip eigenvectors' sign to enforce deterministic output\u001b[39;00m\n\u001b[1;32m    456\u001b[0m U, V \u001b[38;5;241m=\u001b[39m svd_flip(U, V)\n",
      "File \u001b[0;32m~/anaconda3/envs/ml_project_env/lib/python3.8/site-packages/scipy/linalg/decomp_svd.py:127\u001b[0m, in \u001b[0;36msvd\u001b[0;34m(a, full_matrices, compute_uv, overwrite_a, check_finite, lapack_driver)\u001b[0m\n\u001b[1;32m    123\u001b[0m lwork \u001b[38;5;241m=\u001b[39m _compute_lwork(gesXd_lwork, a1\u001b[38;5;241m.\u001b[39mshape[\u001b[38;5;241m0\u001b[39m], a1\u001b[38;5;241m.\u001b[39mshape[\u001b[38;5;241m1\u001b[39m],\n\u001b[1;32m    124\u001b[0m                        compute_uv\u001b[38;5;241m=\u001b[39mcompute_uv, full_matrices\u001b[38;5;241m=\u001b[39mfull_matrices)\n\u001b[1;32m    126\u001b[0m \u001b[38;5;66;03m# perform decomposition\u001b[39;00m\n\u001b[0;32m--> 127\u001b[0m u, s, v, info \u001b[38;5;241m=\u001b[39m \u001b[43mgesXd\u001b[49m\u001b[43m(\u001b[49m\u001b[43ma1\u001b[49m\u001b[43m,\u001b[49m\u001b[43m \u001b[49m\u001b[43mcompute_uv\u001b[49m\u001b[38;5;241;43m=\u001b[39;49m\u001b[43mcompute_uv\u001b[49m\u001b[43m,\u001b[49m\u001b[43m \u001b[49m\u001b[43mlwork\u001b[49m\u001b[38;5;241;43m=\u001b[39;49m\u001b[43mlwork\u001b[49m\u001b[43m,\u001b[49m\n\u001b[1;32m    128\u001b[0m \u001b[43m                      \u001b[49m\u001b[43mfull_matrices\u001b[49m\u001b[38;5;241;43m=\u001b[39;49m\u001b[43mfull_matrices\u001b[49m\u001b[43m,\u001b[49m\u001b[43m \u001b[49m\u001b[43moverwrite_a\u001b[49m\u001b[38;5;241;43m=\u001b[39;49m\u001b[43moverwrite_a\u001b[49m\u001b[43m)\u001b[49m\n\u001b[1;32m    130\u001b[0m \u001b[38;5;28;01mif\u001b[39;00m info \u001b[38;5;241m>\u001b[39m \u001b[38;5;241m0\u001b[39m:\n\u001b[1;32m    131\u001b[0m     \u001b[38;5;28;01mraise\u001b[39;00m LinAlgError(\u001b[38;5;124m\"\u001b[39m\u001b[38;5;124mSVD did not converge\u001b[39m\u001b[38;5;124m\"\u001b[39m)\n",
      "\u001b[0;31mKeyboardInterrupt\u001b[0m: "
     ]
    }
   ],
   "source": []
  },
  {
   "cell_type": "code",
   "execution_count": null,
   "metadata": {},
   "outputs": [],
   "source": []
  },
  {
   "cell_type": "code",
   "execution_count": null,
   "metadata": {},
   "outputs": [],
   "source": []
  },
  {
   "cell_type": "code",
   "execution_count": null,
   "metadata": {},
   "outputs": [],
   "source": [
    "## Check which number of clusters works best \n",
    "n_cluster_list = [4,5,6,7,8,9,10,11,15,20] # there can't be more clusters as n\n",
    "\n",
    "elbow = []\n",
    "ss = []\n",
    "for n_clusters in n_cluster_list:\n",
    "   #iterating through cluster sizes\n",
    "    clusterer = KMeans(n_clusters = n_clusters, random_state=42)\n",
    "    cluster_labels = clusterer.fit_predict(final_clustering_standard)\n",
    "    #Finding the average silhouette score\n",
    "    silhouette_avg = metrics.silhouette_score(final_clustering_standard, cluster_labels)\n",
    "    ss.append(silhouette_avg)\n",
    "    print(\"For n_clusters =\", n_clusters,\"The average silhouette_score is :\", silhouette_avg)\n",
    "    #Finding the average SSE\"\n",
    "    elbow.append(clusterer.inertia_) # Inertia: Sum of distances of samples to their closest cluster center"
   ]
  },
  {
   "cell_type": "code",
   "execution_count": null,
   "metadata": {},
   "outputs": [],
   "source": [
    "# Plotting silhouette score and elbow method\n",
    "fig = plt.figure(figsize=(14,7))\n",
    "fig.add_subplot(121)\n",
    "plt.plot(n_cluster_list, elbow,'bx-',label='Sum of squared error')\n",
    "plt.xlabel(\"Number of cluster\")\n",
    "plt.ylabel(\"SSE\")\n",
    "plt.legend()\n",
    "fig.add_subplot(122)\n",
    "plt.plot(n_cluster_list, ss,'bx-',label='Silhouette Score')\n",
    "plt.xlabel(\"Number of cluster\")\n",
    "plt.ylabel(\"Silhouette Score\")\n",
    "plt.legend()\n",
    "plt.show()\n",
    "plt.savefig('silhouette_score_elbow.pdf')"
   ]
  },
  {
   "cell_type": "code",
   "execution_count": null,
   "metadata": {},
   "outputs": [],
   "source": [
    "# Using a cluster of 8\n",
    "kmeans = KMeans(n_clusters = 8, init ='k-means++', max_iter=300, n_init=10,random_state=0 )\n",
    "y_kmeans = kmeans.fit_predict(final_clustering_standard)\n",
    "print('Done')"
   ]
  },
  {
   "cell_type": "code",
   "execution_count": null,
   "metadata": {},
   "outputs": [],
   "source": [
    "# Plotting the results after clustering\n",
    " \n",
    "#plotting the results:\n",
    "\n",
    "u_labels = np.unique(y_kmeans)\n",
    "\n",
    "for i in u_labels:\n",
    "    plt.scatter(final_clustering_standard[y_kmeans == i , 0] , final_clustering_standard[y_kmeans == i , 1] , label = i)\n",
    "\n",
    "# Plot the centroid. This time we're going to use the cluster centres  #attribute that returns here the coordinates of the centroid.plt.scatter(kmeans.cluster_centers_[:, 0], kmeans.cluster_centers_[:, 1], s=300, c='yellow', label = 'Centroids')\n",
    "# plt.scatter(kmeans.cluster_centers_[:, 0], kmeans.cluster_centers_[:, 1], s=300, c='yellow', label = 'Centroids')\n",
    "plt.title('Clusters of colorectal cancer images')\n",
    "plt.show()\n",
    "plt.savefig('clustering_crc.pdf')"
   ]
  },
  {
   "cell_type": "markdown",
   "metadata": {},
   "source": [
    "# Supervised Method: Random Forest"
   ]
  },
  {
   "cell_type": "code",
   "execution_count": null,
   "metadata": {},
   "outputs": [],
   "source": []
  },
  {
   "cell_type": "markdown",
   "metadata": {},
   "source": [
    "# Supervised Method: Convolutional Neural Network"
   ]
  },
  {
   "cell_type": "code",
   "execution_count": null,
   "metadata": {},
   "outputs": [],
   "source": []
  }
 ],
 "metadata": {
  "kernelspec": {
   "display_name": "Python3.8(ML)",
   "language": "python",
   "name": "python3_ml"
  },
  "language_info": {
   "codemirror_mode": {
    "name": "ipython",
    "version": 3
   },
   "file_extension": ".py",
   "mimetype": "text/x-python",
   "name": "python",
   "nbconvert_exporter": "python",
   "pygments_lexer": "ipython3",
   "version": "3.8.13"
  }
 },
 "nbformat": 4,
 "nbformat_minor": 4
}
